{
 "cells": [
  {
   "cell_type": "code",
   "execution_count": 2,
   "id": "b2b5b328-53c3-4f2c-a63e-48e8c320de47",
   "metadata": {},
   "outputs": [],
   "source": [
    "import numpy as np\n",
    "import pandas as pd"
   ]
  },
  {
   "cell_type": "code",
   "execution_count": 4,
   "id": "2af43176-0e02-4ffe-9337-67583cbac011",
   "metadata": {},
   "outputs": [],
   "source": [
    "# Rastgele günler oluştur (300 gün)\n",
    "np.random.seed(42)\n",
    "days = pd.date_range(start=\"2023-01-01\", periods=300, freq=\"D\")  # 300 günlük aralık"
   ]
  },
  {
   "cell_type": "code",
   "execution_count": 6,
   "id": "bc60010c-699c-4397-93a4-b6d0912b061a",
   "metadata": {},
   "outputs": [],
   "source": [
    "# Özellikler\n",
    "temperature = np.random.randint(5, 35, size=len(days)).astype(float)  # Sıcaklık (5-35 derece, float)\n",
    "rain = np.random.choice([0, 1], size=len(days), p=[0.7, 0.3])  # Yağmur var mı? (0=Hayır, 1=Evet)\n",
    "weekend = days.dayofweek.isin([5, 6]).astype(int)  # Hafta sonu mu? (0=Hayır, 1=Evet)\n",
    "promotion = np.random.choice([0, 1], size=len(days), p=[0.8, 0.2])  # Promosyon var mı? (0=Yok, 1=Var)"
   ]
  },
  {
   "cell_type": "code",
   "execution_count": 8,
   "id": "0238a89f-bc18-43a7-9a96-d759dfd0ae79",
   "metadata": {},
   "outputs": [],
   "source": [
    "# Günlük gelir (TL)\n",
    "revenue = (\n",
    "    200 + 5 * temperature - 50 * rain + 100 * weekend + 150 * promotion +\n",
    "    np.random.normal(0, 30, size=len(days))  # Rastgelelik ekleyerek gerçekçilik\n",
    ")"
   ]
  },
  {
   "cell_type": "code",
   "execution_count": 10,
   "id": "51dab2ad-85ea-4b0c-8a6b-2928e4e22886",
   "metadata": {},
   "outputs": [],
   "source": [
    "# Eksik değerler oluştur\n",
    "temperature[np.random.choice(len(temperature), size=15, replace=False)] = np.nan  # Rastgele 15 eksik değer"
   ]
  },
  {
   "cell_type": "code",
   "execution_count": 12,
   "id": "86542406-4bfa-42ac-a9d4-940b74f4f10f",
   "metadata": {},
   "outputs": [],
   "source": [
    "# Kategorik sütun ekle\n",
    "categories = np.random.choice([\"A\", \"B\", \"C\"], size=len(days), p=[0.4, 0.4, 0.2])  # Rastgele kategori"
   ]
  },
  {
   "cell_type": "code",
   "execution_count": 14,
   "id": "dd779fbe-7a51-422d-ae54-0acb2db64318",
   "metadata": {},
   "outputs": [],
   "source": [
    "# Veri çerçevesi\n",
    "data = pd.DataFrame({\n",
    "    \"Date\": days,\n",
    "    \"Temperature\": temperature,\n",
    "    \"Rain\": rain,\n",
    "    \"Weekend\": weekend,\n",
    "    \"Promotion\": promotion,\n",
    "    \"CafeCategory\": categories,  # Kategorik sütun\n",
    "    \"Revenue\": revenue\n",
    "})"
   ]
  },
  {
   "cell_type": "code",
   "execution_count": 16,
   "id": "9343ced2-e988-4fa5-8f0a-c6526434db7e",
   "metadata": {},
   "outputs": [],
   "source": [
    "# CSV olarak kaydet\n",
    "data.to_csv(\"veri.csv\", index=False)"
   ]
  },
  {
   "cell_type": "code",
   "execution_count": null,
   "id": "754f338a-f4cc-450f-9a65-78cc0c798b57",
   "metadata": {},
   "outputs": [],
   "source": []
  }
 ],
 "metadata": {
  "kernelspec": {
   "display_name": "Python 3 (ipykernel)",
   "language": "python",
   "name": "python3"
  },
  "language_info": {
   "codemirror_mode": {
    "name": "ipython",
    "version": 3
   },
   "file_extension": ".py",
   "mimetype": "text/x-python",
   "name": "python",
   "nbconvert_exporter": "python",
   "pygments_lexer": "ipython3",
   "version": "3.12.4"
  }
 },
 "nbformat": 4,
 "nbformat_minor": 5
}
