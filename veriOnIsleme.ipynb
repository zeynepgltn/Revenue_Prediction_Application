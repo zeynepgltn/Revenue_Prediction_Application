{
 "cells": [
  {
   "cell_type": "code",
   "execution_count": 19,
   "id": "e75dae39-0dc6-40db-9b21-44138b617e90",
   "metadata": {},
   "outputs": [],
   "source": [
    "import pandas as pd\n",
    "import numpy as np\n",
    "from sklearn.impute import SimpleImputer\n",
    "from sklearn.compose import ColumnTransformer\n",
    "from sklearn.preprocessing import OneHotEncoder"
   ]
  },
  {
   "cell_type": "code",
   "execution_count": 20,
   "id": "461a71c5-e393-4ad4-8275-a71bc83058b4",
   "metadata": {},
   "outputs": [],
   "source": [
    "# Veri ekleme\n",
    "dataset = pd.read_csv(\"veri.csv\")"
   ]
  },
  {
   "cell_type": "code",
   "execution_count": 21,
   "id": "849e49a3-1f68-4f7f-a3ff-cd6f770dff1d",
   "metadata": {},
   "outputs": [],
   "source": [
    "# Bağımsız ve bağımlı değişkenleri ayırma\n",
    "X = dataset.iloc[:, 1:-1].values\n",
    "y = dataset.iloc[:, -1].values "
   ]
  },
  {
   "cell_type": "code",
   "execution_count": 22,
   "id": "9211b31b-76a9-4089-a2d5-fd0311bc6c01",
   "metadata": {},
   "outputs": [],
   "source": [
    "# Kayıp veri doldurma (eğer varsa)\n",
    "imputer = SimpleImputer(strategy=\"mean\")\n",
    "X[:, 1:3] = imputer.fit_transform(X[:, 1:3])"
   ]
  },
  {
   "cell_type": "code",
   "execution_count": 23,
   "id": "603ef8d5-27d0-4ffe-9ec3-11026f19eec0",
   "metadata": {},
   "outputs": [
    {
     "name": "stdout",
     "output_type": "stream",
     "text": [
      "[[0.0 1.0 0.0 ... 1.0 1.0 0]\n",
      " [1.0 0.0 0.0 ... 0.0 0.0 0]\n",
      " [0.0 1.0 0.0 ... 0.0 0.0 0]\n",
      " ...\n",
      " [0.0 0.0 1.0 ... 0.0 0.0 0]\n",
      " [0.0 1.0 0.0 ... 0.0 0.0 0]\n",
      " [0.0 0.0 1.0 ... 0.0 0.0 1]]\n"
     ]
    }
   ],
   "source": [
    "# CafeCategory sütunu 4. indekste\n",
    "ct = ColumnTransformer(\n",
    "    transformers=[\n",
    "        (\"encoder\", OneHotEncoder(), [4])  # Sadece CafeCategory (4. sütun) dönüştürülüyor\n",
    "    ],\n",
    "    remainder=\"passthrough\"  # Diğer sütunlar olduğu gibi bırakılır\n",
    ")\n",
    "\n",
    "# Dönüşüm\n",
    "X = np.array(ct.fit_transform(X))\n",
    "print(X)"
   ]
  },
  {
   "cell_type": "code",
   "execution_count": 24,
   "id": "dd961509-5e20-41a0-acda-1bdff1885934",
   "metadata": {},
   "outputs": [],
   "source": [
    "# İşlenmiş verileri birleştirmek için DataFrame oluşturma\n",
    "veri = pd.DataFrame(np.hstack((X, y.reshape(-1, 1))))"
   ]
  },
  {
   "cell_type": "code",
   "execution_count": 26,
   "id": "1b0bdc24-a1a1-4f6e-917d-13469ea73935",
   "metadata": {},
   "outputs": [],
   "source": [
    "# CSV dosyasına kaydetme\n",
    "veri.to_csv(\"veriOnIslendi.csv\", index=False,header=False)"
   ]
  },
  {
   "cell_type": "code",
   "execution_count": null,
   "id": "1b5d8c43-0e59-4ff5-a316-850e73baa5b2",
   "metadata": {},
   "outputs": [],
   "source": []
  }
 ],
 "metadata": {
  "kernelspec": {
   "display_name": "base",
   "language": "python",
   "name": "python3"
  },
  "language_info": {
   "codemirror_mode": {
    "name": "ipython",
    "version": 3
   },
   "file_extension": ".py",
   "mimetype": "text/x-python",
   "name": "python",
   "nbconvert_exporter": "python",
   "pygments_lexer": "ipython3",
   "version": "3.12.4"
  }
 },
 "nbformat": 4,
 "nbformat_minor": 5
}
