{
 "cells": [
  {
   "cell_type": "code",
   "execution_count": 3,
   "id": "22697269-006f-4965-8f9f-86cec312cf0e",
   "metadata": {},
   "outputs": [],
   "source": [
    "import pandas as pd\n",
    "import numpy as np\n",
    "from sklearn.model_selection import train_test_split, GridSearchCV\n",
    "from sklearn.metrics import mean_squared_error\n",
    "from sklearn.linear_model import LinearRegression, Ridge, Lasso, ElasticNet\n",
    "from sklearn.tree import DecisionTreeRegressor\n",
    "from sklearn.ensemble import RandomForestRegressor, BaggingRegressor, GradientBoostingRegressor, VotingRegressor, StackingRegressor\n",
    "from sklearn.neighbors import KNeighborsRegressor\n",
    "from sklearn.svm import SVR\n",
    "from sklearn.preprocessing import PolynomialFeatures\n",
    "from sklearn.pipeline import Pipeline\n",
    "import joblib"
   ]
  },
  {
   "cell_type": "code",
   "execution_count": 4,
   "id": "18d51bf1-7ca9-4d3d-9ba8-997c01ac5aa8",
   "metadata": {},
   "outputs": [],
   "source": [
    "# Veriyi Yükle\n",
    "df = pd.read_csv('veriOnIslendi.csv')"
   ]
  },
  {
   "cell_type": "code",
   "execution_count": null,
   "id": "2e343d81-4f32-4f0a-88fb-0eb3949ceae1",
   "metadata": {},
   "outputs": [
    {
     "name": "stdout",
     "output_type": "stream",
     "text": [
      "0      290.378149\n",
      "1      332.114617\n",
      "2      332.258287\n",
      "3      270.489957\n",
      "4      320.293139\n",
      "          ...    \n",
      "295    309.993230\n",
      "296    254.313790\n",
      "297    354.848666\n",
      "298    367.547577\n",
      "299    467.012361\n",
      "Name: 7, Length: 300, dtype: float64\n"
     ]
    }
   ],
   "source": [
    "# Özellikler (features) ve hedef (target) ayrımı\n",
    "X = df.drop(columns=['7'])\n",
    "y = df['7']"
   ]
  },
  {
   "cell_type": "code",
   "execution_count": 4,
   "id": "35db330a-0f6d-4b93-b12b-b82937b7be8e",
   "metadata": {},
   "outputs": [],
   "source": [
    "# Eğitim ve test setine ayırma\n",
    "X_train, X_test, y_train, y_test = train_test_split(X, y, test_size=0.2, random_state=42)"
   ]
  },
  {
   "cell_type": "code",
   "execution_count": 5,
   "id": "e04122f1-a5fe-4b20-b0a2-84689d7e6ab2",
   "metadata": {},
   "outputs": [],
   "source": [
    "# Modeller ve parametreler\n",
    "models = {\n",
    "    'Linear Regression': LinearRegression(),\n",
    "    'Ridge Regression': Ridge(),\n",
    "    'Lasso Regression': Lasso(),\n",
    "    'Elastic Net': ElasticNet(),\n",
    "    'Decision Tree': DecisionTreeRegressor(),\n",
    "    'Random Forest': RandomForestRegressor(),\n",
    "    'Gradient Boosting': GradientBoostingRegressor(),\n",
    "    'KNN': KNeighborsRegressor(),\n",
    "    'SVR': SVR(),\n",
    "    'Polynomial Regression': Pipeline([\n",
    "        ('poly', PolynomialFeatures()),\n",
    "        ('linear', LinearRegression())\n",
    "    ])\n",
    "}"
   ]
  },
  {
   "cell_type": "code",
   "execution_count": 6,
   "id": "4930337d-f02e-4aaa-b897-4c997723d8f1",
   "metadata": {},
   "outputs": [],
   "source": [
    "param_grid = {\n",
    "    'Linear Regression': {},\n",
    "    'Ridge Regression': {'alpha': [0.1, 1, 10]},\n",
    "    'Lasso Regression': {'alpha': [0.01, 0.1, 1]},\n",
    "    'Elastic Net': {'alpha': [0.1, 1], 'l1_ratio': [0.2, 0.5, 0.8]},\n",
    "    'Decision Tree': {'max_depth': [3, 5, 10, 20]},\n",
    "    'Random Forest': {'n_estimators': [50, 100], 'max_depth': [5, 10]},\n",
    "    'Gradient Boosting': {'n_estimators': [50, 100], 'learning_rate': [0.05, 0.1]},\n",
    "    'KNN': {'n_neighbors': [3, 5, 7]},\n",
    "    'SVR': {'C': [0.1, 1, 10], 'kernel': ['linear', 'rbf']},\n",
    "    'Polynomial Regression': {'poly__degree': [2, 3, 4]}  # PolynomialFeatures için degree parametresi\n",
    "}"
   ]
  },
  {
   "cell_type": "code",
   "execution_count": 7,
   "id": "2f9cd93d-cdb9-43ed-9613-84d79b18d8b7",
   "metadata": {},
   "outputs": [],
   "source": [
    "# Modellerin eğitimi ve değerlendirilmesi\n",
    "results = []"
   ]
  },
  {
   "cell_type": "code",
   "execution_count": 8,
   "id": "aecb0ca4-945a-4155-b362-3e1ef2eb666c",
   "metadata": {},
   "outputs": [
    {
     "name": "stdout",
     "output_type": "stream",
     "text": [
      "Linear Regression modeli eğitiliyor...\n",
      "Ridge Regression modeli eğitiliyor...\n",
      "Lasso Regression modeli eğitiliyor...\n",
      "Elastic Net modeli eğitiliyor...\n"
     ]
    },
    {
     "name": "stderr",
     "output_type": "stream",
     "text": [
      "C:\\Users\\Zeynep\\anaconda3\\Lib\\site-packages\\sklearn\\metrics\\_regression.py:492: FutureWarning: 'squared' is deprecated in version 1.4 and will be removed in 1.6. To calculate the root mean squared error, use the function'root_mean_squared_error'.\n",
      "  warnings.warn(\n",
      "C:\\Users\\Zeynep\\anaconda3\\Lib\\site-packages\\sklearn\\metrics\\_regression.py:492: FutureWarning: 'squared' is deprecated in version 1.4 and will be removed in 1.6. To calculate the root mean squared error, use the function'root_mean_squared_error'.\n",
      "  warnings.warn(\n",
      "C:\\Users\\Zeynep\\anaconda3\\Lib\\site-packages\\sklearn\\metrics\\_regression.py:492: FutureWarning: 'squared' is deprecated in version 1.4 and will be removed in 1.6. To calculate the root mean squared error, use the function'root_mean_squared_error'.\n",
      "  warnings.warn(\n",
      "C:\\Users\\Zeynep\\anaconda3\\Lib\\site-packages\\sklearn\\metrics\\_regression.py:492: FutureWarning: 'squared' is deprecated in version 1.4 and will be removed in 1.6. To calculate the root mean squared error, use the function'root_mean_squared_error'.\n",
      "  warnings.warn(\n",
      "C:\\Users\\Zeynep\\anaconda3\\Lib\\site-packages\\sklearn\\metrics\\_regression.py:492: FutureWarning: 'squared' is deprecated in version 1.4 and will be removed in 1.6. To calculate the root mean squared error, use the function'root_mean_squared_error'.\n",
      "  warnings.warn(\n"
     ]
    },
    {
     "name": "stdout",
     "output_type": "stream",
     "text": [
      "Decision Tree modeli eğitiliyor...\n",
      "Random Forest modeli eğitiliyor...\n"
     ]
    },
    {
     "name": "stderr",
     "output_type": "stream",
     "text": [
      "C:\\Users\\Zeynep\\anaconda3\\Lib\\site-packages\\sklearn\\metrics\\_regression.py:492: FutureWarning: 'squared' is deprecated in version 1.4 and will be removed in 1.6. To calculate the root mean squared error, use the function'root_mean_squared_error'.\n",
      "  warnings.warn(\n"
     ]
    },
    {
     "name": "stdout",
     "output_type": "stream",
     "text": [
      "Gradient Boosting modeli eğitiliyor...\n"
     ]
    },
    {
     "name": "stderr",
     "output_type": "stream",
     "text": [
      "C:\\Users\\Zeynep\\anaconda3\\Lib\\site-packages\\sklearn\\metrics\\_regression.py:492: FutureWarning: 'squared' is deprecated in version 1.4 and will be removed in 1.6. To calculate the root mean squared error, use the function'root_mean_squared_error'.\n",
      "  warnings.warn(\n",
      "C:\\Users\\Zeynep\\anaconda3\\Lib\\site-packages\\sklearn\\metrics\\_regression.py:492: FutureWarning: 'squared' is deprecated in version 1.4 and will be removed in 1.6. To calculate the root mean squared error, use the function'root_mean_squared_error'.\n",
      "  warnings.warn(\n",
      "C:\\Users\\Zeynep\\anaconda3\\Lib\\site-packages\\sklearn\\metrics\\_regression.py:492: FutureWarning: 'squared' is deprecated in version 1.4 and will be removed in 1.6. To calculate the root mean squared error, use the function'root_mean_squared_error'.\n",
      "  warnings.warn(\n"
     ]
    },
    {
     "name": "stdout",
     "output_type": "stream",
     "text": [
      "KNN modeli eğitiliyor...\n",
      "SVR modeli eğitiliyor...\n",
      "Polynomial Regression modeli eğitiliyor...\n"
     ]
    },
    {
     "name": "stderr",
     "output_type": "stream",
     "text": [
      "C:\\Users\\Zeynep\\anaconda3\\Lib\\site-packages\\sklearn\\metrics\\_regression.py:492: FutureWarning: 'squared' is deprecated in version 1.4 and will be removed in 1.6. To calculate the root mean squared error, use the function'root_mean_squared_error'.\n",
      "  warnings.warn(\n"
     ]
    }
   ],
   "source": [
    "for model_name, model in models.items():\n",
    "    print(f\"{model_name} modeli eğitiliyor...\")\n",
    "    grid_search = GridSearchCV(model, param_grid[model_name], cv=5, scoring='neg_root_mean_squared_error')\n",
    "    grid_search.fit(X_train, y_train)\n",
    "    \n",
    "    best_params = grid_search.best_params_\n",
    "    best_model = grid_search.best_estimator_\n",
    "    y_pred = best_model.predict(X_test)\n",
    "    \n",
    "    rmse = mean_squared_error(y_test, y_pred, squared=False)\n",
    "    results.append({\n",
    "        'Model': model_name,\n",
    "        'RMSE': rmse,\n",
    "        'Best Parameters': best_params\n",
    "    })"
   ]
  },
  {
   "cell_type": "code",
   "execution_count": 16,
   "id": "05c744f2-84fa-4c5c-82ac-700c8f467f1a",
   "metadata": {},
   "outputs": [
    {
     "name": "stdout",
     "output_type": "stream",
     "text": [
      "                   Model       RMSE  \\\n",
      "0      Linear Regression  35.025770   \n",
      "1       Ridge Regression  35.002955   \n",
      "2       Lasso Regression  34.967592   \n",
      "3            Elastic Net  35.604737   \n",
      "4          Decision Tree  44.437489   \n",
      "5          Random Forest  35.685269   \n",
      "6      Gradient Boosting  36.551196   \n",
      "7                    KNN  74.913947   \n",
      "8                    SVR  35.319422   \n",
      "9  Polynomial Regression  38.513199   \n",
      "\n",
      "                              Best Parameters  \n",
      "0                                          {}  \n",
      "1                              {'alpha': 0.1}  \n",
      "2                              {'alpha': 0.1}  \n",
      "3             {'alpha': 0.1, 'l1_ratio': 0.8}  \n",
      "4                            {'max_depth': 5}  \n",
      "5       {'max_depth': 5, 'n_estimators': 100}  \n",
      "6  {'learning_rate': 0.1, 'n_estimators': 50}  \n",
      "7                          {'n_neighbors': 3}  \n",
      "8               {'C': 10, 'kernel': 'linear'}  \n",
      "9                         {'poly__degree': 2}  \n"
     ]
    }
   ],
   "source": [
    "results_df = pd.DataFrame(results)\n",
    "print(results_df)"
   ]
  },
  {
   "cell_type": "code",
   "execution_count": 19,
   "id": "d3342ad4-3704-4090-81a8-cce027c5b3a8",
   "metadata": {},
   "outputs": [],
   "source": [
    "# Ensemble modellerin eğitimi\n",
    "ensemble_results = []"
   ]
  },
  {
   "cell_type": "code",
   "execution_count": 21,
   "id": "90175521-f607-4c44-9c4e-8faa45edca9c",
   "metadata": {},
   "outputs": [
    {
     "name": "stderr",
     "output_type": "stream",
     "text": [
      "C:\\Users\\Zeynep\\anaconda3\\Lib\\site-packages\\sklearn\\metrics\\_regression.py:492: FutureWarning: 'squared' is deprecated in version 1.4 and will be removed in 1.6. To calculate the root mean squared error, use the function'root_mean_squared_error'.\n",
      "  warnings.warn(\n"
     ]
    }
   ],
   "source": [
    "# Bagging\n",
    "bagging_model = BaggingRegressor(estimator=RandomForestRegressor(), n_estimators=50)\n",
    "bagging_model.fit(X_train, y_train)\n",
    "bagging_rmse = mean_squared_error(y_test, bagging_model.predict(X_test), squared=False)\n",
    "ensemble_results.append({'Model': 'Bagging', 'RMSE': bagging_rmse})"
   ]
  },
  {
   "cell_type": "code",
   "execution_count": 22,
   "id": "2ee1fd5a-d212-4c66-b078-22e7cb1abe5e",
   "metadata": {},
   "outputs": [
    {
     "name": "stderr",
     "output_type": "stream",
     "text": [
      "C:\\Users\\Zeynep\\anaconda3\\Lib\\site-packages\\sklearn\\metrics\\_regression.py:492: FutureWarning: 'squared' is deprecated in version 1.4 and will be removed in 1.6. To calculate the root mean squared error, use the function'root_mean_squared_error'.\n",
      "  warnings.warn(\n"
     ]
    }
   ],
   "source": [
    "# Gradient Boosting\n",
    "gb_model = GradientBoostingRegressor(n_estimators=100)\n",
    "gb_model.fit(X_train, y_train)\n",
    "gb_rmse = mean_squared_error(y_test, gb_model.predict(X_test), squared=False)\n",
    "ensemble_results.append({'Model': 'Gradient Boosting', 'RMSE': gb_rmse})"
   ]
  },
  {
   "cell_type": "code",
   "execution_count": 23,
   "id": "e19ced85-e70b-4aee-9981-d50a0b55be1f",
   "metadata": {},
   "outputs": [
    {
     "name": "stderr",
     "output_type": "stream",
     "text": [
      "C:\\Users\\Zeynep\\anaconda3\\Lib\\site-packages\\sklearn\\metrics\\_regression.py:492: FutureWarning: 'squared' is deprecated in version 1.4 and will be removed in 1.6. To calculate the root mean squared error, use the function'root_mean_squared_error'.\n",
      "  warnings.warn(\n"
     ]
    }
   ],
   "source": [
    "# Soft Voting\n",
    "voting_model = VotingRegressor([\n",
    "    ('ridge', Ridge(alpha=1)),\n",
    "    ('rf', RandomForestRegressor(n_estimators=100)),\n",
    "    ('svr', SVR(C=1, kernel='linear'))\n",
    "])\n",
    "voting_model.fit(X_train, y_train)\n",
    "voting_rmse = mean_squared_error(y_test, voting_model.predict(X_test), squared=False)\n",
    "ensemble_results.append({'Model': 'Soft Voting', 'RMSE': voting_rmse})"
   ]
  },
  {
   "cell_type": "code",
   "execution_count": 24,
   "id": "4c58dd4d-5132-4606-846b-42fb47bfd741",
   "metadata": {},
   "outputs": [
    {
     "name": "stdout",
     "output_type": "stream",
     "text": [
      "               Model       RMSE\n",
      "0            Bagging  37.268963\n",
      "1  Gradient Boosting  38.734997\n",
      "2        Soft Voting  39.118926\n",
      "3           Stacking  35.115046\n"
     ]
    },
    {
     "name": "stderr",
     "output_type": "stream",
     "text": [
      "C:\\Users\\Zeynep\\anaconda3\\Lib\\site-packages\\sklearn\\metrics\\_regression.py:492: FutureWarning: 'squared' is deprecated in version 1.4 and will be removed in 1.6. To calculate the root mean squared error, use the function'root_mean_squared_error'.\n",
      "  warnings.warn(\n"
     ]
    }
   ],
   "source": [
    "# Stacking\n",
    "stacking_model = StackingRegressor(\n",
    "    estimators=[\n",
    "        ('ridge', Ridge(alpha=1)),\n",
    "        ('rf', RandomForestRegressor(n_estimators=100)),\n",
    "        ('svr', SVR(C=1, kernel='linear'))\n",
    "    ],\n",
    "    final_estimator=LinearRegression()\n",
    ")\n",
    "stacking_model.fit(X_train, y_train)\n",
    "stacking_rmse = mean_squared_error(y_test, stacking_model.predict(X_test), squared=False)\n",
    "ensemble_results.append({'Model': 'Stacking', 'RMSE': stacking_rmse})\n",
    "ensemble_results_df = pd.DataFrame(ensemble_results)\n",
    "print(ensemble_results_df)"
   ]
  },
  {
   "cell_type": "code",
   "execution_count": 27,
   "id": "7ec99e6b-62d9-4d5a-b5c1-40ffd874c582",
   "metadata": {},
   "outputs": [
    {
     "name": "stdout",
     "output_type": "stream",
     "text": [
      "En İyi Model: Lasso Regression olarak kaydedildi.\n"
     ]
    }
   ],
   "source": [
    "# En iyi modelin seçilmesi ve kaydedilmesi\n",
    "all_results = pd.concat([results_df, ensemble_results_df], ignore_index=True)\n",
    "best_model_name = all_results.loc[all_results['RMSE'].idxmin(), 'Model']\n",
    "\n",
    "if best_model_name in models:\n",
    "    final_model = models[best_model_name]\n",
    "else:\n",
    "    final_model = {'Bagging': bagging_model, 'Gradient Boosting': gb_model, 'Soft Voting': voting_model, 'Stacking': stacking_model}[best_model_name]\n",
    "\n",
    "final_model.fit(X_train, y_train)\n",
    "joblib.dump(final_model, f'{best_model_name}_model.joblib')\n",
    "print(f\"En İyi Model: {best_model_name} olarak kaydedildi.\")"
   ]
  },
  {
   "cell_type": "code",
   "execution_count": null,
   "id": "0a787991-2346-4759-acf1-e97c9e7949ae",
   "metadata": {},
   "outputs": [],
   "source": []
  }
 ],
 "metadata": {
  "kernelspec": {
   "display_name": "Python 3 (ipykernel)",
   "language": "python",
   "name": "python3"
  },
  "language_info": {
   "codemirror_mode": {
    "name": "ipython",
    "version": 3
   },
   "file_extension": ".py",
   "mimetype": "text/x-python",
   "name": "python",
   "nbconvert_exporter": "python",
   "pygments_lexer": "ipython3",
   "version": "3.12.4"
  }
 },
 "nbformat": 4,
 "nbformat_minor": 5
}
